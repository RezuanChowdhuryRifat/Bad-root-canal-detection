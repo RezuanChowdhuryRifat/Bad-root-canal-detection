{
  "nbformat": 4,
  "nbformat_minor": 0,
  "metadata": {
    "colab": {
      "name": "Label_modifier.ipynb",
      "provenance": [],
      "collapsed_sections": [],
      "authorship_tag": "ABX9TyNXyZbFWXszHHZMYQoH6OYh",
      "include_colab_link": true
    },
    "kernelspec": {
      "name": "python3",
      "display_name": "Python 3"
    },
    "language_info": {
      "name": "python"
    }
  },
  "cells": [
    {
      "cell_type": "markdown",
      "metadata": {
        "id": "view-in-github",
        "colab_type": "text"
      },
      "source": [
        "<a href=\"https://colab.research.google.com/github/RezuanChowdhuryRifat/Bad-root-canal-detection/blob/rezuan/Label_modifier.ipynb\" target=\"_parent\"><img src=\"https://colab.research.google.com/assets/colab-badge.svg\" alt=\"Open In Colab\"/></a>"
      ]
    },
    {
      "cell_type": "markdown",
      "source": [
        "**Creating a custom python function to modify data labels**"
      ],
      "metadata": {
        "id": "Tga-OAhkrueT"
      }
    },
    {
      "cell_type": "markdown",
      "source": [
        "# Data loading"
      ],
      "metadata": {
        "id": "5DEz0jOcqvbK"
      }
    },
    {
      "cell_type": "code",
      "execution_count": null,
      "metadata": {
        "id": "24eZ7KyrnJCg"
      },
      "outputs": [],
      "source": [
        "import os\n",
        "from google.colab import drive"
      ]
    },
    {
      "cell_type": "code",
      "source": [
        "drive.mount('/content/drive')"
      ],
      "metadata": {
        "colab": {
          "base_uri": "https://localhost:8080/"
        },
        "id": "4PD0_pJXo2Ep",
        "outputId": "cd64aa6d-7398-4a1b-993b-55fdfec14d1f"
      },
      "execution_count": null,
      "outputs": [
        {
          "output_type": "stream",
          "name": "stdout",
          "text": [
            "Mounted at /content/drive\n"
          ]
        }
      ]
    },
    {
      "cell_type": "code",
      "source": [
        "os.makedirs(\"dataset/label\")\n",
        "!cp \"/content/drive/MyDrive/dataset/Labelled malpractice images ptf a11-20220730T150524Z-001.zip\" dataset/label.zip\n"
      ],
      "metadata": {
        "id": "A4glqUtoplNR"
      },
      "execution_count": null,
      "outputs": []
    },
    {
      "cell_type": "code",
      "source": [
        "!unzip dataset/label.zip -d dataset/label\n",
        "os.listdir('dataset/label')"
      ],
      "metadata": {
        "id": "QTSPh49lqS0k"
      },
      "execution_count": null,
      "outputs": []
    },
    {
      "cell_type": "markdown",
      "source": [
        "# Label modify function"
      ],
      "metadata": {
        "id": "IA08790CrWPj"
      }
    },
    {
      "cell_type": "code",
      "source": [
        "filepath = \"/content/dataset/label/Labelledmalpracticeimagesptfa11/\"\n",
        "\n",
        "\n",
        "dir_path = '/content/dataset/label/Labelledmalpracticeimagesptfa11/.ipynb_checkpoints'\n",
        "\n",
        "try:\n",
        "    os.rmdir(dir_path)\n",
        "except OSError as e:\n",
        "    print(\"Error: %s : %s\" % (dir_path, e.strerror))\n",
        "path = os.listdir(filepath)    \n",
        "for content in path:\n",
        "  print(content)\n"
      ],
      "metadata": {
        "id": "iqEWaJBfrU-8"
      },
      "execution_count": null,
      "outputs": []
    },
    {
      "cell_type": "code",
      "source": [
        "def label_modifier (current,new,path,filepath):\n",
        " current = current\n",
        " new = new\n",
        " for content in path:\n",
        "  with open(filepath + content, \"r\", encoding = \"utf-8\") as file:\n",
        "    result = file.read()\n",
        "  result = result.replace(current, new)  \n",
        "  with open(filepath + content, \"w\", encoding = \"utf-8\") as newfile:\n",
        "    newfile.write(result)\n"
      ],
      "metadata": {
        "id": "Q_TvYxNFsR8T"
      },
      "execution_count": null,
      "outputs": []
    },
    {
      "cell_type": "code",
      "source": [
        "label_modifier('14','0',path,filepath)\n",
        "label_modifier('15','1',path,filepath)\n",
        "label_modifier('16','2',path,filepath)\n",
        "label_modifier('17','3',path,filepath)\n",
        "label_modifier('18','4',path,filepath)"
      ],
      "metadata": {
        "id": "Pw_HEK06xnBy"
      },
      "execution_count": null,
      "outputs": []
    },
    {
      "cell_type": "code",
      "source": [
        "from google.colab import files\n",
        "files.download('/content/dataset/label/Labelledmalpracticeimagesptfa11')"
      ],
      "metadata": {
        "colab": {
          "base_uri": "https://localhost:8080/",
          "height": 34
        },
        "id": "aOLYbnp95Utk",
        "outputId": "b3d7a777-50ad-4b3a-dbb6-aea9494b56e0"
      },
      "execution_count": null,
      "outputs": [
        {
          "output_type": "display_data",
          "data": {
            "text/plain": [
              "<IPython.core.display.Javascript object>"
            ],
            "application/javascript": [
              "\n",
              "    async function download(id, filename, size) {\n",
              "      if (!google.colab.kernel.accessAllowed) {\n",
              "        return;\n",
              "      }\n",
              "      const div = document.createElement('div');\n",
              "      const label = document.createElement('label');\n",
              "      label.textContent = `Downloading \"${filename}\": `;\n",
              "      div.appendChild(label);\n",
              "      const progress = document.createElement('progress');\n",
              "      progress.max = size;\n",
              "      div.appendChild(progress);\n",
              "      document.body.appendChild(div);\n",
              "\n",
              "      const buffers = [];\n",
              "      let downloaded = 0;\n",
              "\n",
              "      const channel = await google.colab.kernel.comms.open(id);\n",
              "      // Send a message to notify the kernel that we're ready.\n",
              "      channel.send({})\n",
              "\n",
              "      for await (const message of channel.messages) {\n",
              "        // Send a message to notify the kernel that we're ready.\n",
              "        channel.send({})\n",
              "        if (message.buffers) {\n",
              "          for (const buffer of message.buffers) {\n",
              "            buffers.push(buffer);\n",
              "            downloaded += buffer.byteLength;\n",
              "            progress.value = downloaded;\n",
              "          }\n",
              "        }\n",
              "      }\n",
              "      const blob = new Blob(buffers, {type: 'application/binary'});\n",
              "      const a = document.createElement('a');\n",
              "      a.href = window.URL.createObjectURL(blob);\n",
              "      a.download = filename;\n",
              "      div.appendChild(a);\n",
              "      a.click();\n",
              "      div.remove();\n",
              "    }\n",
              "  "
            ]
          },
          "metadata": {}
        },
        {
          "output_type": "display_data",
          "data": {
            "text/plain": [
              "<IPython.core.display.Javascript object>"
            ],
            "application/javascript": [
              "download(\"download_5b84836b-021c-4022-8f6f-1480b1eef534\", \"Labelledmalpracticeimagesptfa11\", 12288)"
            ]
          },
          "metadata": {}
        }
      ]
    }
  ]
}